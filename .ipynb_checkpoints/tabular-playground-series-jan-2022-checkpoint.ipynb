{
 "cells": [
  {
   "cell_type": "markdown",
   "id": "98a357cf",
   "metadata": {},
   "source": [
    "## Import of Required Packages"
   ]
  },
  {
   "cell_type": "code",
   "execution_count": 1,
   "id": "a309824a",
   "metadata": {},
   "outputs": [],
   "source": [
    "# Import necessary packages\n",
    "\n",
    "import numpy as np\n",
    "import pandas as pd\n",
    "import matplotlib.pyplot as plt"
   ]
  },
  {
   "cell_type": "markdown",
   "id": "d7cfdb8e",
   "metadata": {},
   "source": [
    "## Load Training Data Set"
   ]
  },
  {
   "cell_type": "code",
   "execution_count": 2,
   "id": "a4986997",
   "metadata": {},
   "outputs": [],
   "source": [
    "df = pd.read_csv('data/train.csv')\n",
    "df_org = df\n",
    "# df_org"
   ]
  },
  {
   "cell_type": "markdown",
   "id": "c89b182f",
   "metadata": {},
   "source": [
    "## Summary of Dataframe"
   ]
  },
  {
   "cell_type": "code",
   "execution_count": 3,
   "id": "d94dbffb",
   "metadata": {},
   "outputs": [
    {
     "name": "stdout",
     "output_type": "stream",
     "text": [
      "<class 'pandas.core.frame.DataFrame'>\n",
      "RangeIndex: 26298 entries, 0 to 26297\n",
      "Data columns (total 6 columns):\n",
      " #   Column    Non-Null Count  Dtype \n",
      "---  ------    --------------  ----- \n",
      " 0   row_id    26298 non-null  int64 \n",
      " 1   date      26298 non-null  object\n",
      " 2   country   26298 non-null  object\n",
      " 3   store     26298 non-null  object\n",
      " 4   product   26298 non-null  object\n",
      " 5   num_sold  26298 non-null  int64 \n",
      "dtypes: int64(2), object(4)\n",
      "memory usage: 1.2+ MB\n"
     ]
    }
   ],
   "source": [
    "# df.head(10)\n",
    "# df.tail(10)\n",
    "# df.columns\n",
    "# df.dtypes\n",
    "# df.isnull().sum()\n",
    "df.info()"
   ]
  },
  {
   "cell_type": "markdown",
   "id": "6def1b31",
   "metadata": {},
   "source": [
    "### Types of Variables"
   ]
  },
  {
   "cell_type": "code",
   "execution_count": 4,
   "id": "67cea89e",
   "metadata": {},
   "outputs": [
    {
     "data": {
      "text/plain": [
       "row_id       int64\n",
       "date        object\n",
       "country     object\n",
       "store       object\n",
       "product     object\n",
       "num_sold     int64\n",
       "dtype: object"
      ]
     },
     "execution_count": 4,
     "metadata": {},
     "output_type": "execute_result"
    }
   ],
   "source": [
    "df.dtypes"
   ]
  },
  {
   "cell_type": "markdown",
   "id": "32dccbe7",
   "metadata": {},
   "source": [
    "#### Finding of Categorical Variables"
   ]
  },
  {
   "cell_type": "code",
   "execution_count": 5,
   "id": "e84811d0",
   "metadata": {},
   "outputs": [
    {
     "name": "stdout",
     "output_type": "stream",
     "text": [
      "There are 4 categorical variables\n"
     ]
    }
   ],
   "source": [
    "cat_var = [var for var in df.columns if df[var].dtype=='O']\n",
    "\n",
    "print('There are {} categorical variables'.format(len(cat_var)))"
   ]
  },
  {
   "cell_type": "code",
   "execution_count": 6,
   "id": "9893464c",
   "metadata": {},
   "outputs": [
    {
     "data": {
      "text/html": [
       "<div>\n",
       "<style scoped>\n",
       "    .dataframe tbody tr th:only-of-type {\n",
       "        vertical-align: middle;\n",
       "    }\n",
       "\n",
       "    .dataframe tbody tr th {\n",
       "        vertical-align: top;\n",
       "    }\n",
       "\n",
       "    .dataframe thead th {\n",
       "        text-align: right;\n",
       "    }\n",
       "</style>\n",
       "<table border=\"1\" class=\"dataframe\">\n",
       "  <thead>\n",
       "    <tr style=\"text-align: right;\">\n",
       "      <th></th>\n",
       "      <th>date</th>\n",
       "      <th>country</th>\n",
       "      <th>store</th>\n",
       "      <th>product</th>\n",
       "    </tr>\n",
       "  </thead>\n",
       "  <tbody>\n",
       "    <tr>\n",
       "      <th>0</th>\n",
       "      <td>2015-01-01</td>\n",
       "      <td>Finland</td>\n",
       "      <td>KaggleMart</td>\n",
       "      <td>Kaggle Mug</td>\n",
       "    </tr>\n",
       "    <tr>\n",
       "      <th>1</th>\n",
       "      <td>2015-01-01</td>\n",
       "      <td>Finland</td>\n",
       "      <td>KaggleMart</td>\n",
       "      <td>Kaggle Hat</td>\n",
       "    </tr>\n",
       "    <tr>\n",
       "      <th>2</th>\n",
       "      <td>2015-01-01</td>\n",
       "      <td>Finland</td>\n",
       "      <td>KaggleMart</td>\n",
       "      <td>Kaggle Sticker</td>\n",
       "    </tr>\n",
       "    <tr>\n",
       "      <th>3</th>\n",
       "      <td>2015-01-01</td>\n",
       "      <td>Finland</td>\n",
       "      <td>KaggleRama</td>\n",
       "      <td>Kaggle Mug</td>\n",
       "    </tr>\n",
       "    <tr>\n",
       "      <th>4</th>\n",
       "      <td>2015-01-01</td>\n",
       "      <td>Finland</td>\n",
       "      <td>KaggleRama</td>\n",
       "      <td>Kaggle Hat</td>\n",
       "    </tr>\n",
       "  </tbody>\n",
       "</table>\n",
       "</div>"
      ],
      "text/plain": [
       "         date  country       store         product\n",
       "0  2015-01-01  Finland  KaggleMart      Kaggle Mug\n",
       "1  2015-01-01  Finland  KaggleMart      Kaggle Hat\n",
       "2  2015-01-01  Finland  KaggleMart  Kaggle Sticker\n",
       "3  2015-01-01  Finland  KaggleRama      Kaggle Mug\n",
       "4  2015-01-01  Finland  KaggleRama      Kaggle Hat"
      ]
     },
     "execution_count": 6,
     "metadata": {},
     "output_type": "execute_result"
    }
   ],
   "source": [
    "df[cat_var].head()"
   ]
  },
  {
   "cell_type": "code",
   "execution_count": 7,
   "id": "2c916dec",
   "metadata": {},
   "outputs": [],
   "source": [
    "# # plot median Sales per date\n",
    "\n",
    "# df.groupby('date')['num_sold'].median().plot()\n",
    "# plt.title('Sales variation along date')\n",
    "# plt.ylabel('median Sales')"
   ]
  },
  {
   "cell_type": "markdown",
   "id": "72b84f33",
   "metadata": {},
   "source": [
    "### Finding of Numerical Variables"
   ]
  },
  {
   "cell_type": "code",
   "execution_count": 8,
   "id": "f454e5bc",
   "metadata": {},
   "outputs": [
    {
     "data": {
      "text/html": [
       "<div>\n",
       "<style scoped>\n",
       "    .dataframe tbody tr th:only-of-type {\n",
       "        vertical-align: middle;\n",
       "    }\n",
       "\n",
       "    .dataframe tbody tr th {\n",
       "        vertical-align: top;\n",
       "    }\n",
       "\n",
       "    .dataframe thead th {\n",
       "        text-align: right;\n",
       "    }\n",
       "</style>\n",
       "<table border=\"1\" class=\"dataframe\">\n",
       "  <thead>\n",
       "    <tr style=\"text-align: right;\">\n",
       "      <th></th>\n",
       "      <th>row_id</th>\n",
       "      <th>num_sold</th>\n",
       "    </tr>\n",
       "  </thead>\n",
       "  <tbody>\n",
       "    <tr>\n",
       "      <th>0</th>\n",
       "      <td>0</td>\n",
       "      <td>329</td>\n",
       "    </tr>\n",
       "    <tr>\n",
       "      <th>1</th>\n",
       "      <td>1</td>\n",
       "      <td>520</td>\n",
       "    </tr>\n",
       "    <tr>\n",
       "      <th>2</th>\n",
       "      <td>2</td>\n",
       "      <td>146</td>\n",
       "    </tr>\n",
       "    <tr>\n",
       "      <th>3</th>\n",
       "      <td>3</td>\n",
       "      <td>572</td>\n",
       "    </tr>\n",
       "    <tr>\n",
       "      <th>4</th>\n",
       "      <td>4</td>\n",
       "      <td>911</td>\n",
       "    </tr>\n",
       "  </tbody>\n",
       "</table>\n",
       "</div>"
      ],
      "text/plain": [
       "   row_id  num_sold\n",
       "0       0       329\n",
       "1       1       520\n",
       "2       2       146\n",
       "3       3       572\n",
       "4       4       911"
      ]
     },
     "execution_count": 8,
     "metadata": {},
     "output_type": "execute_result"
    }
   ],
   "source": [
    "# make a list of the numerical variables first\n",
    "num_var = [var for var in df.columns if df[var].dtype!='O']\n",
    "df[num_var].head()"
   ]
  },
  {
   "cell_type": "code",
   "execution_count": 9,
   "id": "8c72d072",
   "metadata": {},
   "outputs": [
    {
     "name": "stdout",
     "output_type": "stream",
     "text": [
      "No. of Unique identifier for column \"row_id\" :  26298\n",
      "Total No of Rows in Table :  26298\n"
     ]
    }
   ],
   "source": [
    "# row_id variable should not be used for predictions as it's unique identifier for each row.\n",
    "\n",
    "print('No. of Unique identifier for column \"row_id\" : ',len(df['row_id'].unique()))\n",
    "print('Total No of Rows in Table : ',len(df))"
   ]
  },
  {
   "cell_type": "code",
   "execution_count": 10,
   "id": "c31a3d74",
   "metadata": {},
   "outputs": [],
   "source": [
    "# need to skip row_id variable & target variable num_sold\n",
    "num_var.remove('row_id')\n",
    "num_var.remove('num_sold')"
   ]
  },
  {
   "cell_type": "markdown",
   "id": "e25b2cfc",
   "metadata": {},
   "source": [
    "### Find discrete variables\n",
    "To identify discrete variables, I will select from all the numerical ones, those that contain a finite and small number of distinct values(<20). "
   ]
  },
  {
   "cell_type": "code",
   "execution_count": 11,
   "id": "486d7e83",
   "metadata": {},
   "outputs": [],
   "source": [
    "# Need to skip row_id variable and the target variable num_sold\n",
    "# So, no further Numerical variables & Discrete variables.\n",
    "dis_var = []"
   ]
  },
  {
   "cell_type": "markdown",
   "id": "ec445676",
   "metadata": {},
   "source": [
    "### Find Temporal Variables"
   ]
  },
  {
   "cell_type": "code",
   "execution_count": 12,
   "id": "22f77cf6",
   "metadata": {},
   "outputs": [],
   "source": [
    "temp_var = ['date']\n",
    "cat_var.remove('date')\n",
    "# temp_var\n",
    "# cat_var \n"
   ]
  },
  {
   "cell_type": "code",
   "execution_count": 13,
   "id": "98b652cf",
   "metadata": {},
   "outputs": [
    {
     "data": {
      "text/plain": [
       "['country', 'store', 'product']"
      ]
     },
     "execution_count": 13,
     "metadata": {},
     "output_type": "execute_result"
    }
   ],
   "source": [
    "cat_var"
   ]
  },
  {
   "cell_type": "markdown",
   "id": "87bcef14",
   "metadata": {},
   "source": [
    "## Feature Engineering"
   ]
  },
  {
   "cell_type": "markdown",
   "id": "06ea5f9e",
   "metadata": {},
   "source": [
    "## Variable Characteristics"
   ]
  },
  {
   "cell_type": "markdown",
   "id": "aff5ac16",
   "metadata": {},
   "source": [
    "### Temporal variables\n",
    "Date to \"day_of_week\" & \"weekend\" derivation to figure out any weekday purchase trend\n"
   ]
  },
  {
   "cell_type": "code",
   "execution_count": 14,
   "id": "86770d83",
   "metadata": {},
   "outputs": [],
   "source": [
    "df_date = pd.to_datetime(df['date'])\n",
    "# df['day_of_week'] = df_date.dt.day_name() ## to retrive Weekday Name\n",
    "df['day_of_week'] = df_date.dt.day_of_week\n",
    "\n",
    "# X_train['day_of_week'] = pd.to_datetime(X_train['date']).dt.day_of_week\n",
    "# X_test['day_of_week'] = pd.to_datetime(X_test['date']).dt.day_of_week"
   ]
  },
  {
   "cell_type": "code",
   "execution_count": 15,
   "id": "f626d8cd",
   "metadata": {},
   "outputs": [],
   "source": [
    "df[\"day_of_week\"].value_counts()\n",
    "dis_var.append('day_of_week')"
   ]
  },
  {
   "cell_type": "code",
   "execution_count": 16,
   "id": "1a18b85f",
   "metadata": {},
   "outputs": [],
   "source": [
    "def is_weekend (row):\n",
    "   if row['day_of_week'] < 5 :\n",
    "      return 0\n",
    "   else:\n",
    "      return 1\n",
    "\n",
    "df['weekend'] = df.apply (lambda row: is_weekend(row), axis=1)\n",
    "# X_train['weekend'] = X_train.apply (lambda row: is_weekend(row), axis=1)\n",
    "# X_test['weekend'] = X_test.apply (lambda row: is_weekend(row), axis=1)"
   ]
  },
  {
   "cell_type": "code",
   "execution_count": 17,
   "id": "47c3be16",
   "metadata": {},
   "outputs": [],
   "source": [
    "df['weekend'].value_counts()\n",
    "dis_var.append('weekend')"
   ]
  },
  {
   "cell_type": "markdown",
   "id": "dbb03dc6",
   "metadata": {},
   "source": [
    "### Derivation of month & year from date field"
   ]
  },
  {
   "cell_type": "code",
   "execution_count": 18,
   "id": "a956881b",
   "metadata": {},
   "outputs": [],
   "source": [
    "df['month'] = df_date.dt.month\n",
    "df['year'] = df_date.dt.year\n",
    "df['month'].value_counts()\n",
    "df[\"year\"].value_counts()\n",
    "\n",
    "dis_var.append('month')\n",
    "dis_var.append('year')\n",
    "\n",
    "# X_train['month'] = pd.to_datetime(X_train['date']).dt.month\n",
    "# X_train['year'] = pd.to_datetime(X_train['date']).dt.year\n",
    "\n",
    "# X_test['month'] = pd.to_datetime(X_test['date']).dt.month\n",
    "# X_test['year'] = pd.to_datetime(X_test['date']).dt.year"
   ]
  },
  {
   "cell_type": "markdown",
   "id": "d7adabb9",
   "metadata": {},
   "source": [
    "### Creation of \"us_holiday\" to uncover any purchase trend during hoidays"
   ]
  },
  {
   "cell_type": "code",
   "execution_count": 19,
   "id": "a21c84b1",
   "metadata": {},
   "outputs": [],
   "source": [
    "import holidays\n",
    "import datetime\n",
    "\n",
    "# year = df['date'].str.slice(0,4)\n",
    "# year_unq = year.unique()\n",
    "\n",
    "holidays_us = []\n",
    "\n",
    "for date in holidays.UnitedStates(years=[2015,2016,2017,2018]).items():  ## ?? need to change for dynamic year selection\n",
    "        holidays_us.append(str(date[0]))\n",
    "    \n",
    "\n",
    "df['us_holiday'] = [\n",
    "    1 if val in holidays_us else 0 for val in df['date']]\n",
    "\n",
    "    \n",
    "df['us_holiday'].value_counts()\n",
    "dis_var.append('us_holiday')\n",
    "    \n",
    "# X_train['us_holiday'] = [\n",
    "#     1 if val in holidays_us else 0 for val in X_train['date']\n",
    "# ]\n",
    "\n",
    "# X_test['us_holiday'] = [\n",
    "#     1 if val in holidays_us else 0 for val in X_test['date']\n",
    "# ]"
   ]
  },
  {
   "cell_type": "markdown",
   "id": "c0f04c5d",
   "metadata": {},
   "source": [
    "Instead of the \"date\", now we have day_of_week, us_holiday, weekend, month & year . Next, we drop the date variable from the datasets, because we already extracted its value."
   ]
  },
  {
   "cell_type": "code",
   "execution_count": 20,
   "id": "700cab0f",
   "metadata": {},
   "outputs": [],
   "source": [
    "# drop date\n",
    "# df.drop('date', axis=1, inplace=True)\n",
    "\n",
    "temp_var.remove('date')\n",
    "\n",
    "\n",
    "# X_train.drop('date', axis=1, inplace=True)\n",
    "# X_test.drop('date', axis=1, inplace=True)"
   ]
  },
  {
   "cell_type": "code",
   "execution_count": 21,
   "id": "723005e2",
   "metadata": {},
   "outputs": [
    {
     "data": {
      "text/plain": [
       "['day_of_week',\n",
       " 'weekend',\n",
       " 'month',\n",
       " 'year',\n",
       " 'us_holiday',\n",
       " 'country',\n",
       " 'store',\n",
       " 'product']"
      ]
     },
     "execution_count": 21,
     "metadata": {},
     "output_type": "execute_result"
    }
   ],
   "source": [
    "# df.columns\n",
    "num_var+dis_var+cat_var+temp_var"
   ]
  },
  {
   "cell_type": "code",
   "execution_count": 22,
   "id": "ba083d3e",
   "metadata": {},
   "outputs": [],
   "source": [
    "# # capture the column names for use later in the notebook\n",
    "# # final_columns = X_train.columns\n",
    "\n",
    "# dis_var.extend(['day_of_week', 'weekend','month','year','us_holiday'])\n",
    "\n",
    "# # cat_var.remove('date')\n",
    "\n",
    "# # num_var.remove('row_id') \n",
    "# # num_var.remove('num_sold')\n",
    "\n",
    "# final_columns = cat_var + dis_var + num_var"
   ]
  },
  {
   "cell_type": "code",
   "execution_count": null,
   "id": "198bf520",
   "metadata": {},
   "outputs": [],
   "source": []
  },
  {
   "cell_type": "markdown",
   "id": "eff06040",
   "metadata": {},
   "source": [
    "### Missing Values"
   ]
  },
  {
   "cell_type": "code",
   "execution_count": 23,
   "id": "1c4ce2d5",
   "metadata": {},
   "outputs": [
    {
     "name": "stdout",
     "output_type": "stream",
     "text": [
      "<class 'pandas.core.frame.DataFrame'>\n",
      "RangeIndex: 26298 entries, 0 to 26297\n",
      "Data columns (total 11 columns):\n",
      " #   Column       Non-Null Count  Dtype \n",
      "---  ------       --------------  ----- \n",
      " 0   row_id       26298 non-null  int64 \n",
      " 1   date         26298 non-null  object\n",
      " 2   country      26298 non-null  object\n",
      " 3   store        26298 non-null  object\n",
      " 4   product      26298 non-null  object\n",
      " 5   num_sold     26298 non-null  int64 \n",
      " 6   day_of_week  26298 non-null  int64 \n",
      " 7   weekend      26298 non-null  int64 \n",
      " 8   month        26298 non-null  int64 \n",
      " 9   year         26298 non-null  int64 \n",
      " 10  us_holiday   26298 non-null  int64 \n",
      "dtypes: int64(7), object(4)\n",
      "memory usage: 2.2+ MB\n"
     ]
    },
    {
     "data": {
      "text/plain": [
       "row_id         0\n",
       "date           0\n",
       "country        0\n",
       "store          0\n",
       "product        0\n",
       "num_sold       0\n",
       "day_of_week    0\n",
       "weekend        0\n",
       "month          0\n",
       "year           0\n",
       "us_holiday     0\n",
       "dtype: int64"
      ]
     },
     "execution_count": 23,
     "metadata": {},
     "output_type": "execute_result"
    }
   ],
   "source": [
    "df.info() \n",
    "df.isnull().sum()# no missing data"
   ]
  },
  {
   "cell_type": "code",
   "execution_count": 24,
   "id": "01466119",
   "metadata": {},
   "outputs": [],
   "source": [
    "#Below codes are not required as there is no missing values\n",
    "# let's output variables with NA and the percentage of NA\n",
    "\n",
    "for var in df.columns:\n",
    "    if df[var].isnull().sum() > 0:\n",
    "        print(var, df[var].isnull().mean())"
   ]
  },
  {
   "cell_type": "markdown",
   "id": "ab8e3a7d",
   "metadata": {},
   "source": [
    "### Cardinality"
   ]
  },
  {
   "cell_type": "code",
   "execution_count": 25,
   "id": "e16b3f8b",
   "metadata": {},
   "outputs": [
    {
     "data": {
      "text/plain": [
       "Text(0, 0.5, 'Number of different categories')"
      ]
     },
     "execution_count": 25,
     "metadata": {},
     "output_type": "execute_result"
    },
    {
     "data": {
      "image/png": "[encoded data removed]",
      "text/plain": [
       "<Figure size 720x432 with 1 Axes>"
      ]
     },
     "metadata": {
      "needs_background": "light"
     },
     "output_type": "display_data"
    }
   ],
   "source": [
    "# plot number of categories per categorical variable\n",
    "\n",
    "df[cat_var].nunique().plot.bar(figsize=(10,6))\n",
    "plt.title('CARDINALITY: Number of categories in categorical variables')\n",
    "plt.xlabel('Categorical variables')\n",
    "plt.ylabel('Number of different categories')"
   ]
  },
  {
   "cell_type": "markdown",
   "id": "52e38463",
   "metadata": {},
   "source": [
    "So, Cardinality of all Categorical Variables are moderate..They are not very high."
   ]
  },
  {
   "cell_type": "code",
   "execution_count": 26,
   "id": "acb22c81",
   "metadata": {},
   "outputs": [],
   "source": [
    "# print('Number of categories in the variable date: {}'.format(len(df.date.unique())))\n",
    "# print('Number of categories in the variable country: {}'.format(len(df.country.unique())))\n",
    "# print('Number of categories in the variable store: {}'.format(len(df.store.unique())))\n",
    "# # print('Number of categories in the variable product: {}'.format(len(df.product.unique()))) # ??\n",
    "# print('Number of categories in the variable product: {}'.format(len(df[\"product\"].unique())))"
   ]
  },
  {
   "cell_type": "markdown",
   "id": "738f6371",
   "metadata": {},
   "source": [
    "### Rare Label Identification"
   ]
  },
  {
   "cell_type": "code",
   "execution_count": 27,
   "id": "99f1a956",
   "metadata": {},
   "outputs": [
    {
     "data": {
      "image/png": "[encoded data removed]",
      "text/plain": [
       "<Figure size 432x288 with 1 Axes>"
      ]
     },
     "metadata": {
      "needs_background": "light"
     },
     "output_type": "display_data"
    },
    {
     "data": {
      "image/png": "[encoded data removed]",
      "text/plain": [
       "<Figure size 432x288 with 1 Axes>"
      ]
     },
     "metadata": {
      "needs_background": "light"
     },
     "output_type": "display_data"
    },
    {
     "data": {
      "image/png": "[encoded data removed]",
      "text/plain": [
       "<Figure size 432x288 with 1 Axes>"
      ]
     },
     "metadata": {
      "needs_background": "light"
     },
     "output_type": "display_data"
    }
   ],
   "source": [
    "# plot how frequently each label appears in the dataset for Categorical Variables\n",
    "\n",
    "\n",
    "# for each categorical variable\n",
    "for var in cat_var:\n",
    "\n",
    "    # count number of records per label of category and divide by total records\n",
    "\n",
    "    temp_df = pd.Series(df[var].value_counts() / len(df))\n",
    "\n",
    "    # make plot with the above percentages\n",
    "    fig = temp_df.sort_values(ascending=False).plot.bar()\n",
    "    fig.set_xlabel(var)\n",
    "\n",
    "    # add a line at 5 % to flag the threshold for rare categories\n",
    "    fig.axhline(y=0.05, color='red')\n",
    "    fig.set_ylabel('Percentage of Observations per Label')\n",
    "    plt.show()"
   ]
  },
  {
   "cell_type": "markdown",
   "id": "9502aff6",
   "metadata": {},
   "source": [
    "So, Frequency of Labels of of any Categorical Variable are almost same..There is not much difference among them. So no Rare label exists."
   ]
  },
  {
   "cell_type": "markdown",
   "id": "46940a06",
   "metadata": {},
   "source": [
    "### Variable Transformation"
   ]
  },
  {
   "cell_type": "markdown",
   "id": "c567c15f",
   "metadata": {},
   "source": [
    "### Plots to assess normality"
   ]
  },
  {
   "cell_type": "markdown",
   "id": "90f691fb",
   "metadata": {},
   "source": [
    "To visualise the distribution of the variables, we plot a histogram and a Q-Q plot. In the Q-Q pLots, if the variable is normally distributed, the values of the variable should fall in a 45 degree line when plotted against the theoretical quantiles."
   ]
  },
  {
   "cell_type": "code",
   "execution_count": 28,
   "id": "c3a43b4e",
   "metadata": {},
   "outputs": [],
   "source": [
    "# plot the histograms to have a quick look at the variable distribution\n",
    "# histogram and Q-Q plots\n",
    "\n",
    "import scipy.stats as stats\n",
    "\n",
    "def diagnostic_plots(df, variable):\n",
    "    \n",
    "    # function to plot a histogram and a Q-Q plot\n",
    "    # side by side, for a certain variable\n",
    "    \n",
    "    plt.figure(figsize=(15,6))\n",
    "    plt.subplot(1, 2, 1)\n",
    "    df[variable].hist()\n",
    "\n",
    "    plt.subplot(1, 2, 2)\n",
    "    stats.probplot(df[variable], dist=\"norm\", plot=plt)\n",
    "    \n",
    "    plt.xlabel(variable)\n",
    "    plt.ylabel('No of Occurance')\n",
    "\n",
    "    plt.show()"
   ]
  },
  {
   "cell_type": "code",
   "execution_count": 29,
   "id": "929b23d0",
   "metadata": {},
   "outputs": [
    {
     "data": {
      "text/plain": [
       "day_of_week    int64\n",
       "weekend        int64\n",
       "month          int64\n",
       "year           int64\n",
       "us_holiday     int64\n",
       "dtype: object"
      ]
     },
     "execution_count": 29,
     "metadata": {},
     "output_type": "execute_result"
    }
   ],
   "source": [
    "df[dis_var].dtypes"
   ]
  },
  {
   "cell_type": "code",
   "execution_count": 30,
   "id": "6fa63ab7",
   "metadata": {},
   "outputs": [
    {
     "data": {
      "image/png": "[encoded data removed]",
      "text/plain": [
       "<Figure size 1080x432 with 2 Axes>"
      ]
     },
     "metadata": {
      "needs_background": "light"
     },
     "output_type": "display_data"
    },
    {
     "data": {
      "image/png": "[encoded data removed]",
      "text/plain": [
       "<Figure size 1080x432 with 2 Axes>"
      ]
     },
     "metadata": {
      "needs_background": "light"
     },
     "output_type": "display_data"
    },
    {
     "data": {
      "image/png": "[encoded data removed]",
      "text/plain": [
       "<Figure size 1080x432 with 2 Axes>"
      ]
     },
     "metadata": {
      "needs_background": "light"
     },
     "output_type": "display_data"
    },
    {
     "data": {
      "image/png": "[encoded data removed]",
      "text/plain": [
       "<Figure size 1080x432 with 2 Axes>"
      ]
     },
     "metadata": {
      "needs_background": "light"
     },
     "output_type": "display_data"
    },
    {
     "data": {
      "image/png": "[encoded data removed]",
      "text/plain": [
       "<Figure size 1080x432 with 2 Axes>"
      ]
     },
     "metadata": {
      "needs_background": "light"
     },
     "output_type": "display_data"
    }
   ],
   "source": [
    "for var in dis_var:\n",
    "    diagnostic_plots(df,var)"
   ]
  },
  {
   "cell_type": "markdown",
   "id": "0cef8a53",
   "metadata": {},
   "source": [
    "Log Transformer"
   ]
  },
  {
   "cell_type": "code",
   "execution_count": 31,
   "id": "eb77a706",
   "metadata": {},
   "outputs": [
    {
     "data": {
      "image/png": "[encoded data removed]",
      "text/plain": [
       "<Figure size 1080x432 with 2 Axes>"
      ]
     },
     "metadata": {
      "needs_background": "light"
     },
     "output_type": "display_data"
    }
   ],
   "source": [
    "import feature_engine.transformation as vt\n",
    "lt = vt.LogTransformer(variables = ['year'])\n",
    "lt.fit(df)\n",
    "df_tf = lt.transform(df)\n",
    "diagnostic_plots(df_tf, 'year')"
   ]
  },
  {
   "cell_type": "markdown",
   "id": "60eb3ac3",
   "metadata": {},
   "source": [
    "Reciprocal Transformer"
   ]
  },
  {
   "cell_type": "code",
   "execution_count": 32,
   "id": "d19b7011",
   "metadata": {},
   "outputs": [
    {
     "data": {
      "image/png": "[encoded data removed]",
      "text/plain": [
       "<Figure size 1080x432 with 2 Axes>"
      ]
     },
     "metadata": {
      "needs_background": "light"
     },
     "output_type": "display_data"
    }
   ],
   "source": [
    "import feature_engine.transformation as vt\n",
    "lt = vt.ReciprocalTransformer(variables = ['year'])\n",
    "lt.fit(df)\n",
    "df_tf = lt.transform(df)\n",
    "diagnostic_plots(df_tf, 'year')"
   ]
  },
  {
   "cell_type": "markdown",
   "id": "6065ab91",
   "metadata": {},
   "source": [
    "Exponential Transformer"
   ]
  },
  {
   "cell_type": "code",
   "execution_count": 33,
   "id": "1e6b118b",
   "metadata": {},
   "outputs": [
    {
     "data": {
      "image/png": "[encoded data removed]",
      "text/plain": [
       "<Figure size 1080x432 with 2 Axes>"
      ]
     },
     "metadata": {
      "needs_background": "light"
     },
     "output_type": "display_data"
    }
   ],
   "source": [
    "import feature_engine.transformation as vt\n",
    "lt = vt.PowerTransformer(variables = ['month'])\n",
    "lt.fit(df)\n",
    "df_tf = lt.transform(df)\n",
    "diagnostic_plots(df_tf, 'month')"
   ]
  },
  {
   "cell_type": "markdown",
   "id": "4a7a437d",
   "metadata": {},
   "source": [
    "BoxCox Transformer"
   ]
  },
  {
   "cell_type": "code",
   "execution_count": 34,
   "id": "15da5cef",
   "metadata": {},
   "outputs": [
    {
     "data": {
      "image/png": "[encoded data removed]",
      "text/plain": [
       "<Figure size 1080x432 with 2 Axes>"
      ]
     },
     "metadata": {
      "needs_background": "light"
     },
     "output_type": "display_data"
    }
   ],
   "source": [
    "import feature_engine.transformation as vt\n",
    "lt = vt.BoxCoxTransformer(variables = ['month'])\n",
    "lt.fit(df)\n",
    "df_tf = lt.transform(df)\n",
    "diagnostic_plots(df_tf, 'month')"
   ]
  },
  {
   "cell_type": "markdown",
   "id": "be4b720c",
   "metadata": {},
   "source": [
    "### Separate train and test set"
   ]
  },
  {
   "cell_type": "code",
   "execution_count": 35,
   "id": "ae5f3365",
   "metadata": {},
   "outputs": [],
   "source": [
    "final_var = num_var+dis_var+cat_var\n",
    "# final_var"
   ]
  },
  {
   "cell_type": "code",
   "execution_count": 36,
   "id": "60e4cda6",
   "metadata": {},
   "outputs": [
    {
     "data": {
      "text/plain": [
       "((18408, 8), (7890, 8))"
      ]
     },
     "execution_count": 36,
     "metadata": {},
     "output_type": "execute_result"
    }
   ],
   "source": [
    "# Let's separate into train and test set\n",
    "\n",
    "from sklearn.model_selection import train_test_split\n",
    "\n",
    "# Let's separate into train and test set\n",
    "\n",
    "\n",
    "\n",
    "X_train, X_test, y_train, y_test = train_test_split(df[final_var],\n",
    "                                                    df['num_sold'],\n",
    "                                                    test_size=0.3,\n",
    "                                                    random_state=0)\n",
    "\n",
    "# X_train, X_test, y_train, y_test = train_test_split(df.drop(['row_id', 'num_sold'], axis=1),\n",
    "#                                                     df['num_sold'],\n",
    "#                                                     test_size=0.3,\n",
    "#                                                     random_state=0)\n",
    "\n",
    "X_train.shape, X_test.shape"
   ]
  },
  {
   "cell_type": "code",
   "execution_count": 37,
   "id": "53ba5714",
   "metadata": {},
   "outputs": [
    {
     "data": {
      "text/plain": [
       "['day_of_week', 'weekend', 'month', 'year', 'us_holiday']"
      ]
     },
     "execution_count": 37,
     "metadata": {},
     "output_type": "execute_result"
    }
   ],
   "source": [
    "X_train.dtypes\n",
    "dis_var"
   ]
  },
  {
   "cell_type": "code",
   "execution_count": 38,
   "id": "04233b74",
   "metadata": {},
   "outputs": [],
   "source": [
    "# I will treat discrete variables as if they were categorical\n",
    "# to treat discrete as categorical using Feature-engine\n",
    "# we need to re-cast them as object\n",
    "\n",
    "X_train[dis_var] = X_train[dis_var].astype('O')\n",
    "X_test[dis_var] = X_test[dis_var].astype('O')"
   ]
  },
  {
   "cell_type": "code",
   "execution_count": 39,
   "id": "b5638a86",
   "metadata": {},
   "outputs": [
    {
     "data": {
      "text/plain": [
       "day_of_week    object\n",
       "weekend        object\n",
       "month          object\n",
       "year           object\n",
       "us_holiday     object\n",
       "country        object\n",
       "store          object\n",
       "product        object\n",
       "dtype: object"
      ]
     },
     "execution_count": 39,
     "metadata": {},
     "output_type": "execute_result"
    }
   ],
   "source": [
    "X_train.dtypes"
   ]
  },
  {
   "cell_type": "markdown",
   "id": "02797791",
   "metadata": {},
   "source": [
    "### Missing data imputation\n",
    "No missing data...so this step is not required"
   ]
  },
  {
   "cell_type": "code",
   "execution_count": 40,
   "id": "33bc3b5f",
   "metadata": {},
   "outputs": [],
   "source": [
    "# for the model\n",
    "from sklearn.linear_model import Lasso\n",
    "from sklearn.pipeline import Pipeline\n",
    "from sklearn.metrics import mean_squared_error, r2_score\n",
    "\n",
    "# for feature engineering\n",
    "from sklearn.preprocessing import StandardScaler\n",
    "from feature_engine import imputation as mdi\n",
    "from feature_engine import discretisation as dsc\n",
    "from feature_engine import encoding as ce\n",
    "\n",
    "\n",
    "goods_pipe = Pipeline([\n",
    "\n",
    "#     # missing data imputation\n",
    "#     ('missing_ind', mdi.AddMissingIndicator(\n",
    "#         variables=['country', 'store',  'product'])),\n",
    "    \n",
    "#     ('imputer_num', mdi.MeanMedianImputer(imputation_method='median',\n",
    "#                                           variables=['country', 'store',  'product'])),\n",
    "    \n",
    "#     ('imputer_cat', mdi.CategoricalImputer(variables=cat_var)),\n",
    "\n",
    "#     # categorical encoding\n",
    "#     ('rare_label_enc', ce.RareLabelEncoder(\n",
    "#         tol=0.05, n_categories=6, variables=cat_var+dis_var)),\n",
    "        \n",
    "    \n",
    "#     ('categorical_enc', ce.OrdinalEncoder(\n",
    "#         encoding_method='ordered', variables=cat_var+dis_var)),\n",
    "    \n",
    "    ('categorical_enc', ce.OneHotEncoder(variables=cat_var+dis_var)),\n",
    "\n",
    "#     # discretisation + encoding\n",
    "#     ('discretisation', dsc.EqualFrequencyDiscretiser(\n",
    "#         q=5, return_object=True, variables=num_var)),\n",
    "    \n",
    "#     ('encoding', ce.OrdinalEncoder(\n",
    "#         encoding_method='ordered', variables=num_var)),\n",
    "\n",
    "    # feature Scaling \n",
    "    ('scaler', StandardScaler()),\n",
    "    \n",
    "    # regression\n",
    "    ('lasso', Lasso(random_state=0))\n",
    "])"
   ]
  },
  {
   "cell_type": "code",
   "execution_count": 41,
   "id": "098ac593",
   "metadata": {},
   "outputs": [
    {
     "data": {
      "text/plain": [
       "Pipeline(steps=[('categorical_enc',\n",
       "                 OneHotEncoder(variables=['country', 'store', 'product',\n",
       "                                          'day_of_week', 'weekend', 'month',\n",
       "                                          'year', 'us_holiday'])),\n",
       "                ('scaler', StandardScaler()),\n",
       "                ('lasso', Lasso(random_state=0))])"
      ]
     },
     "execution_count": 41,
     "metadata": {},
     "output_type": "execute_result"
    }
   ],
   "source": [
    "# let's fit the pipeline\n",
    "goods_pipe.fit(X_train, y_train)"
   ]
  },
  {
   "cell_type": "code",
   "execution_count": 42,
   "id": "250c5684",
   "metadata": {},
   "outputs": [],
   "source": [
    "# let's get the predictions\n",
    "X_train_preds = goods_pipe.predict(X_train)"
   ]
  },
  {
   "cell_type": "code",
   "execution_count": 43,
   "id": "1a0770fa",
   "metadata": {},
   "outputs": [],
   "source": [
    "X_test_preds = goods_pipe.predict(X_test)"
   ]
  },
  {
   "cell_type": "code",
   "execution_count": 44,
   "id": "82f2c0a3",
   "metadata": {},
   "outputs": [
    {
     "data": {
      "text/plain": [
       "array([380.00822174, 789.68584125, 684.95578148, ..., 198.37613976,\n",
       "       145.74851572, -11.6357887 ])"
      ]
     },
     "execution_count": 44,
     "metadata": {},
     "output_type": "execute_result"
    }
   ],
   "source": [
    "# a peek into the prediction values\n",
    "X_train_preds"
   ]
  },
  {
   "cell_type": "code",
   "execution_count": 45,
   "id": "494e679f",
   "metadata": {},
   "outputs": [
    {
     "name": "stdout",
     "output_type": "stream",
     "text": [
      "train mse: 14173.125951165239\n",
      "train rmse: 119.05093847242549\n",
      "train r2: 0.7991319179295624\n",
      "\n",
      "test mse: 14359.26400720702\n",
      "test rmse: 119.83014648746375\n",
      "test r2: 0.798721982437818\n"
     ]
    }
   ],
   "source": [
    "# check model performance:\n",
    "\n",
    "from math import sqrt\n",
    "\n",
    "print('train mse: {}'.format(mean_squared_error(y_train, X_train_preds)))\n",
    "print('train rmse: {}'.format(sqrt(mean_squared_error(y_train, X_train_preds))))\n",
    "print('train r2: {}'.format(r2_score(y_train, X_train_preds)))\n",
    "print()\n",
    "print('test mse: {}'.format(mean_squared_error(y_test, X_test_preds)))\n",
    "print('test rmse: {}'.format(sqrt(mean_squared_error(y_test, X_test_preds))))\n",
    "print('test r2: {}'.format(r2_score(y_test, X_test_preds)))"
   ]
  },
  {
   "cell_type": "code",
   "execution_count": 48,
   "id": "95af9a8a",
   "metadata": {},
   "outputs": [
    {
     "data": {
      "text/plain": [
       "Text(0, 0.5, 'Predicted No of Goods Sold')"
      ]
     },
     "execution_count": 48,
     "metadata": {},
     "output_type": "execute_result"
    },
    {
     "data": {
      "image/png": "[encoded data removed]",
      "text/plain": [
       "<Figure size 432x288 with 1 Axes>"
      ]
     },
     "metadata": {
      "needs_background": "light"
     },
     "output_type": "display_data"
    }
   ],
   "source": [
    "# plot predictions vs real value\n",
    "\n",
    "plt.scatter(y_test,X_test_preds)\n",
    "plt.xlabel('Actual No of Goods Sold')\n",
    "plt.ylabel('Predicted No of Goods Sold')"
   ]
  },
  {
   "cell_type": "code",
   "execution_count": 50,
   "id": "b7c021e4",
   "metadata": {},
   "outputs": [
    {
     "data": {
      "text/html": [
       "<div>\n",
       "<style scoped>\n",
       "    .dataframe tbody tr th:only-of-type {\n",
       "        vertical-align: middle;\n",
       "    }\n",
       "\n",
       "    .dataframe tbody tr th {\n",
       "        vertical-align: top;\n",
       "    }\n",
       "\n",
       "    .dataframe thead th {\n",
       "        text-align: right;\n",
       "    }\n",
       "</style>\n",
       "<table border=\"1\" class=\"dataframe\">\n",
       "  <thead>\n",
       "    <tr style=\"text-align: right;\">\n",
       "      <th></th>\n",
       "      <th>day_of_week</th>\n",
       "      <th>weekend</th>\n",
       "      <th>month</th>\n",
       "      <th>year</th>\n",
       "      <th>us_holiday</th>\n",
       "      <th>country</th>\n",
       "      <th>store</th>\n",
       "      <th>product</th>\n",
       "    </tr>\n",
       "  </thead>\n",
       "  <tbody>\n",
       "    <tr>\n",
       "      <th>26004</th>\n",
       "      <td>5</td>\n",
       "      <td>1</td>\n",
       "      <td>12</td>\n",
       "      <td>2018</td>\n",
       "      <td>0</td>\n",
       "      <td>Sweden</td>\n",
       "      <td>KaggleMart</td>\n",
       "      <td>Kaggle Mug</td>\n",
       "    </tr>\n",
       "    <tr>\n",
       "      <th>2980</th>\n",
       "      <td>0</td>\n",
       "      <td>0</td>\n",
       "      <td>6</td>\n",
       "      <td>2015</td>\n",
       "      <td>0</td>\n",
       "      <td>Norway</td>\n",
       "      <td>KaggleRama</td>\n",
       "      <td>Kaggle Hat</td>\n",
       "    </tr>\n",
       "    <tr>\n",
       "      <th>9382</th>\n",
       "      <td>6</td>\n",
       "      <td>1</td>\n",
       "      <td>6</td>\n",
       "      <td>2016</td>\n",
       "      <td>0</td>\n",
       "      <td>Finland</td>\n",
       "      <td>KaggleRama</td>\n",
       "      <td>Kaggle Hat</td>\n",
       "    </tr>\n",
       "    <tr>\n",
       "      <th>19897</th>\n",
       "      <td>2</td>\n",
       "      <td>0</td>\n",
       "      <td>1</td>\n",
       "      <td>2018</td>\n",
       "      <td>0</td>\n",
       "      <td>Norway</td>\n",
       "      <td>KaggleMart</td>\n",
       "      <td>Kaggle Hat</td>\n",
       "    </tr>\n",
       "    <tr>\n",
       "      <th>1023</th>\n",
       "      <td>3</td>\n",
       "      <td>0</td>\n",
       "      <td>2</td>\n",
       "      <td>2015</td>\n",
       "      <td>0</td>\n",
       "      <td>Sweden</td>\n",
       "      <td>KaggleRama</td>\n",
       "      <td>Kaggle Mug</td>\n",
       "    </tr>\n",
       "    <tr>\n",
       "      <th>...</th>\n",
       "      <td>...</td>\n",
       "      <td>...</td>\n",
       "      <td>...</td>\n",
       "      <td>...</td>\n",
       "      <td>...</td>\n",
       "      <td>...</td>\n",
       "      <td>...</td>\n",
       "      <td>...</td>\n",
       "    </tr>\n",
       "    <tr>\n",
       "      <th>13123</th>\n",
       "      <td>4</td>\n",
       "      <td>0</td>\n",
       "      <td>12</td>\n",
       "      <td>2016</td>\n",
       "      <td>0</td>\n",
       "      <td>Finland</td>\n",
       "      <td>KaggleMart</td>\n",
       "      <td>Kaggle Hat</td>\n",
       "    </tr>\n",
       "    <tr>\n",
       "      <th>19648</th>\n",
       "      <td>2</td>\n",
       "      <td>0</td>\n",
       "      <td>12</td>\n",
       "      <td>2017</td>\n",
       "      <td>0</td>\n",
       "      <td>Norway</td>\n",
       "      <td>KaggleRama</td>\n",
       "      <td>Kaggle Hat</td>\n",
       "    </tr>\n",
       "    <tr>\n",
       "      <th>9845</th>\n",
       "      <td>3</td>\n",
       "      <td>0</td>\n",
       "      <td>6</td>\n",
       "      <td>2016</td>\n",
       "      <td>0</td>\n",
       "      <td>Sweden</td>\n",
       "      <td>KaggleRama</td>\n",
       "      <td>Kaggle Sticker</td>\n",
       "    </tr>\n",
       "    <tr>\n",
       "      <th>10799</th>\n",
       "      <td>0</td>\n",
       "      <td>0</td>\n",
       "      <td>8</td>\n",
       "      <td>2016</td>\n",
       "      <td>0</td>\n",
       "      <td>Sweden</td>\n",
       "      <td>KaggleRama</td>\n",
       "      <td>Kaggle Sticker</td>\n",
       "    </tr>\n",
       "    <tr>\n",
       "      <th>2732</th>\n",
       "      <td>0</td>\n",
       "      <td>0</td>\n",
       "      <td>6</td>\n",
       "      <td>2015</td>\n",
       "      <td>0</td>\n",
       "      <td>Sweden</td>\n",
       "      <td>KaggleMart</td>\n",
       "      <td>Kaggle Sticker</td>\n",
       "    </tr>\n",
       "  </tbody>\n",
       "</table>\n",
       "<p>18408 rows × 8 columns</p>\n",
       "</div>"
      ],
      "text/plain": [
       "      day_of_week weekend month  year us_holiday  country       store  \\\n",
       "26004           5       1    12  2018          0   Sweden  KaggleMart   \n",
       "2980            0       0     6  2015          0   Norway  KaggleRama   \n",
       "9382            6       1     6  2016          0  Finland  KaggleRama   \n",
       "19897           2       0     1  2018          0   Norway  KaggleMart   \n",
       "1023            3       0     2  2015          0   Sweden  KaggleRama   \n",
       "...           ...     ...   ...   ...        ...      ...         ...   \n",
       "13123           4       0    12  2016          0  Finland  KaggleMart   \n",
       "19648           2       0    12  2017          0   Norway  KaggleRama   \n",
       "9845            3       0     6  2016          0   Sweden  KaggleRama   \n",
       "10799           0       0     8  2016          0   Sweden  KaggleRama   \n",
       "2732            0       0     6  2015          0   Sweden  KaggleMart   \n",
       "\n",
       "              product  \n",
       "26004      Kaggle Mug  \n",
       "2980       Kaggle Hat  \n",
       "9382       Kaggle Hat  \n",
       "19897      Kaggle Hat  \n",
       "1023       Kaggle Mug  \n",
       "...               ...  \n",
       "13123      Kaggle Hat  \n",
       "19648      Kaggle Hat  \n",
       "9845   Kaggle Sticker  \n",
       "10799  Kaggle Sticker  \n",
       "2732   Kaggle Sticker  \n",
       "\n",
       "[18408 rows x 8 columns]"
      ]
     },
     "execution_count": 50,
     "metadata": {},
     "output_type": "execute_result"
    }
   ],
   "source": [
    "final_var\n",
    "X_train"
   ]
  },
  {
   "cell_type": "code",
   "execution_count": 47,
   "id": "3c4d1046",
   "metadata": {},
   "outputs": [
    {
     "ename": "ValueError",
     "evalue": "Length mismatch: Expected axis has 35 elements, new values have 8 elements",
     "output_type": "error",
     "traceback": [
      "\u001b[1;31m---------------------------------------------------------------------------\u001b[0m",
      "\u001b[1;31mValueError\u001b[0m                                Traceback (most recent call last)",
      "\u001b[1;32mC:\\Users\\SOUMYA~1\\AppData\\Local\\Temp/ipykernel_4796/3401471864.py\u001b[0m in \u001b[0;36m<module>\u001b[1;34m\u001b[0m\n\u001b[0;32m      4\u001b[0m \u001b[0mimportance\u001b[0m \u001b[1;33m=\u001b[0m \u001b[0mpd\u001b[0m\u001b[1;33m.\u001b[0m\u001b[0mSeries\u001b[0m\u001b[1;33m(\u001b[0m\u001b[0mnp\u001b[0m\u001b[1;33m.\u001b[0m\u001b[0mabs\u001b[0m\u001b[1;33m(\u001b[0m\u001b[0mgoods_pipe\u001b[0m\u001b[1;33m.\u001b[0m\u001b[0mnamed_steps\u001b[0m\u001b[1;33m[\u001b[0m\u001b[1;34m'lasso'\u001b[0m\u001b[1;33m]\u001b[0m\u001b[1;33m.\u001b[0m\u001b[0mcoef_\u001b[0m\u001b[1;33m)\u001b[0m\u001b[1;33m)\u001b[0m\u001b[1;33m\u001b[0m\u001b[1;33m\u001b[0m\u001b[0m\n\u001b[0;32m      5\u001b[0m \u001b[1;31m# importance.index = list(final_columns)+['LotFrontage_na', 'MasVnrArea_na',  'GarageYrBlt_na']\u001b[0m\u001b[1;33m\u001b[0m\u001b[1;33m\u001b[0m\u001b[1;33m\u001b[0m\u001b[0m\n\u001b[1;32m----> 6\u001b[1;33m \u001b[0mimportance\u001b[0m\u001b[1;33m.\u001b[0m\u001b[0mindex\u001b[0m \u001b[1;33m=\u001b[0m \u001b[0mlist\u001b[0m\u001b[1;33m(\u001b[0m\u001b[0mfinal_var\u001b[0m\u001b[1;33m)\u001b[0m\u001b[1;33m\u001b[0m\u001b[1;33m\u001b[0m\u001b[0m\n\u001b[0m\u001b[0;32m      7\u001b[0m \u001b[0mimportance\u001b[0m\u001b[1;33m.\u001b[0m\u001b[0msort_values\u001b[0m\u001b[1;33m(\u001b[0m\u001b[0minplace\u001b[0m\u001b[1;33m=\u001b[0m\u001b[1;32mTrue\u001b[0m\u001b[1;33m,\u001b[0m \u001b[0mascending\u001b[0m\u001b[1;33m=\u001b[0m\u001b[1;32mFalse\u001b[0m\u001b[1;33m)\u001b[0m\u001b[1;33m\u001b[0m\u001b[1;33m\u001b[0m\u001b[0m\n\u001b[0;32m      8\u001b[0m \u001b[0mimportance\u001b[0m\u001b[1;33m.\u001b[0m\u001b[0mplot\u001b[0m\u001b[1;33m.\u001b[0m\u001b[0mbar\u001b[0m\u001b[1;33m(\u001b[0m\u001b[0mfigsize\u001b[0m\u001b[1;33m=\u001b[0m\u001b[1;33m(\u001b[0m\u001b[1;36m18\u001b[0m\u001b[1;33m,\u001b[0m\u001b[1;36m6\u001b[0m\u001b[1;33m)\u001b[0m\u001b[1;33m)\u001b[0m\u001b[1;33m\u001b[0m\u001b[1;33m\u001b[0m\u001b[0m\n",
      "\u001b[1;32m~\\Anaconda3\\lib\\site-packages\\pandas\\core\\generic.py\u001b[0m in \u001b[0;36m__setattr__\u001b[1;34m(self, name, value)\u001b[0m\n\u001b[0;32m   5498\u001b[0m         \u001b[1;32mtry\u001b[0m\u001b[1;33m:\u001b[0m\u001b[1;33m\u001b[0m\u001b[1;33m\u001b[0m\u001b[0m\n\u001b[0;32m   5499\u001b[0m             \u001b[0mobject\u001b[0m\u001b[1;33m.\u001b[0m\u001b[0m__getattribute__\u001b[0m\u001b[1;33m(\u001b[0m\u001b[0mself\u001b[0m\u001b[1;33m,\u001b[0m \u001b[0mname\u001b[0m\u001b[1;33m)\u001b[0m\u001b[1;33m\u001b[0m\u001b[1;33m\u001b[0m\u001b[0m\n\u001b[1;32m-> 5500\u001b[1;33m             \u001b[1;32mreturn\u001b[0m \u001b[0mobject\u001b[0m\u001b[1;33m.\u001b[0m\u001b[0m__setattr__\u001b[0m\u001b[1;33m(\u001b[0m\u001b[0mself\u001b[0m\u001b[1;33m,\u001b[0m \u001b[0mname\u001b[0m\u001b[1;33m,\u001b[0m \u001b[0mvalue\u001b[0m\u001b[1;33m)\u001b[0m\u001b[1;33m\u001b[0m\u001b[1;33m\u001b[0m\u001b[0m\n\u001b[0m\u001b[0;32m   5501\u001b[0m         \u001b[1;32mexcept\u001b[0m \u001b[0mAttributeError\u001b[0m\u001b[1;33m:\u001b[0m\u001b[1;33m\u001b[0m\u001b[1;33m\u001b[0m\u001b[0m\n\u001b[0;32m   5502\u001b[0m             \u001b[1;32mpass\u001b[0m\u001b[1;33m\u001b[0m\u001b[1;33m\u001b[0m\u001b[0m\n",
      "\u001b[1;32m~\\Anaconda3\\lib\\site-packages\\pandas\\_libs\\properties.pyx\u001b[0m in \u001b[0;36mpandas._libs.properties.AxisProperty.__set__\u001b[1;34m()\u001b[0m\n",
      "\u001b[1;32m~\\Anaconda3\\lib\\site-packages\\pandas\\core\\series.py\u001b[0m in \u001b[0;36m_set_axis\u001b[1;34m(self, axis, labels, fastpath)\u001b[0m\n\u001b[0;32m    557\u001b[0m         \u001b[1;32mif\u001b[0m \u001b[1;32mnot\u001b[0m \u001b[0mfastpath\u001b[0m\u001b[1;33m:\u001b[0m\u001b[1;33m\u001b[0m\u001b[1;33m\u001b[0m\u001b[0m\n\u001b[0;32m    558\u001b[0m             \u001b[1;31m# The ensure_index call above ensures we have an Index object\u001b[0m\u001b[1;33m\u001b[0m\u001b[1;33m\u001b[0m\u001b[1;33m\u001b[0m\u001b[0m\n\u001b[1;32m--> 559\u001b[1;33m             \u001b[0mself\u001b[0m\u001b[1;33m.\u001b[0m\u001b[0m_mgr\u001b[0m\u001b[1;33m.\u001b[0m\u001b[0mset_axis\u001b[0m\u001b[1;33m(\u001b[0m\u001b[0maxis\u001b[0m\u001b[1;33m,\u001b[0m \u001b[0mlabels\u001b[0m\u001b[1;33m)\u001b[0m\u001b[1;33m\u001b[0m\u001b[1;33m\u001b[0m\u001b[0m\n\u001b[0m\u001b[0;32m    560\u001b[0m \u001b[1;33m\u001b[0m\u001b[0m\n\u001b[0;32m    561\u001b[0m     \u001b[1;31m# ndarray compatibility\u001b[0m\u001b[1;33m\u001b[0m\u001b[1;33m\u001b[0m\u001b[1;33m\u001b[0m\u001b[0m\n",
      "\u001b[1;32m~\\Anaconda3\\lib\\site-packages\\pandas\\core\\internals\\managers.py\u001b[0m in \u001b[0;36mset_axis\u001b[1;34m(self, axis, new_labels)\u001b[0m\n\u001b[0;32m    214\u001b[0m     \u001b[1;32mdef\u001b[0m \u001b[0mset_axis\u001b[0m\u001b[1;33m(\u001b[0m\u001b[0mself\u001b[0m\u001b[1;33m,\u001b[0m \u001b[0maxis\u001b[0m\u001b[1;33m:\u001b[0m \u001b[0mint\u001b[0m\u001b[1;33m,\u001b[0m \u001b[0mnew_labels\u001b[0m\u001b[1;33m:\u001b[0m \u001b[0mIndex\u001b[0m\u001b[1;33m)\u001b[0m \u001b[1;33m->\u001b[0m \u001b[1;32mNone\u001b[0m\u001b[1;33m:\u001b[0m\u001b[1;33m\u001b[0m\u001b[1;33m\u001b[0m\u001b[0m\n\u001b[0;32m    215\u001b[0m         \u001b[1;31m# Caller is responsible for ensuring we have an Index object.\u001b[0m\u001b[1;33m\u001b[0m\u001b[1;33m\u001b[0m\u001b[1;33m\u001b[0m\u001b[0m\n\u001b[1;32m--> 216\u001b[1;33m         \u001b[0mself\u001b[0m\u001b[1;33m.\u001b[0m\u001b[0m_validate_set_axis\u001b[0m\u001b[1;33m(\u001b[0m\u001b[0maxis\u001b[0m\u001b[1;33m,\u001b[0m \u001b[0mnew_labels\u001b[0m\u001b[1;33m)\u001b[0m\u001b[1;33m\u001b[0m\u001b[1;33m\u001b[0m\u001b[0m\n\u001b[0m\u001b[0;32m    217\u001b[0m         \u001b[0mself\u001b[0m\u001b[1;33m.\u001b[0m\u001b[0maxes\u001b[0m\u001b[1;33m[\u001b[0m\u001b[0maxis\u001b[0m\u001b[1;33m]\u001b[0m \u001b[1;33m=\u001b[0m \u001b[0mnew_labels\u001b[0m\u001b[1;33m\u001b[0m\u001b[1;33m\u001b[0m\u001b[0m\n\u001b[0;32m    218\u001b[0m \u001b[1;33m\u001b[0m\u001b[0m\n",
      "\u001b[1;32m~\\Anaconda3\\lib\\site-packages\\pandas\\core\\internals\\base.py\u001b[0m in \u001b[0;36m_validate_set_axis\u001b[1;34m(self, axis, new_labels)\u001b[0m\n\u001b[0;32m     55\u001b[0m \u001b[1;33m\u001b[0m\u001b[0m\n\u001b[0;32m     56\u001b[0m         \u001b[1;32melif\u001b[0m \u001b[0mnew_len\u001b[0m \u001b[1;33m!=\u001b[0m \u001b[0mold_len\u001b[0m\u001b[1;33m:\u001b[0m\u001b[1;33m\u001b[0m\u001b[1;33m\u001b[0m\u001b[0m\n\u001b[1;32m---> 57\u001b[1;33m             raise ValueError(\n\u001b[0m\u001b[0;32m     58\u001b[0m                 \u001b[1;34mf\"Length mismatch: Expected axis has {old_len} elements, new \"\u001b[0m\u001b[1;33m\u001b[0m\u001b[1;33m\u001b[0m\u001b[0m\n\u001b[0;32m     59\u001b[0m                 \u001b[1;34mf\"values have {new_len} elements\"\u001b[0m\u001b[1;33m\u001b[0m\u001b[1;33m\u001b[0m\u001b[0m\n",
      "\u001b[1;31mValueError\u001b[0m: Length mismatch: Expected axis has 35 elements, new values have 8 elements"
     ]
    }
   ],
   "source": [
    "# let's explore the importance of the features\n",
    "# the importance is given by the absolute value of the coefficient assigned by the Lasso\n",
    "\n",
    "importance = pd.Series(np.abs(goods_pipe.named_steps['lasso'].coef_))\n",
    "# importance.index = list(final_columns)+['LotFrontage_na', 'MasVnrArea_na',  'GarageYrBlt_na']\n",
    "importance.index = list(final_var)\n",
    "importance.sort_values(inplace=True, ascending=False)\n",
    "importance.plot.bar(figsize=(18,6))"
   ]
  }
 ],
 "metadata": {
  "kernelspec": {
   "display_name": "Python 3 (ipykernel)",
   "language": "python",
   "name": "python3"
  },
  "language_info": {
   "codemirror_mode": {
    "name": "ipython",
    "version": 3
   },
   "file_extension": ".py",
   "mimetype": "text/x-python",
   "name": "python",
   "nbconvert_exporter": "python",
   "pygments_lexer": "ipython3",
   "version": "3.8.8"
  }
 },
 "nbformat": 4,
 "nbformat_minor": 5
}
